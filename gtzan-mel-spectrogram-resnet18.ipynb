{
 "cells": [
  {
   "cell_type": "markdown",
   "metadata": {},
   "source": [
    "In this notebook, I try to classify the audio files in the famous GTZAN dataset\n",
    "\n",
    "I have seen that many people are converting the given 30 sec audio files into 3 second files to increase the data. However, I don't agree with this approach. This is because while splitting the data into training, test and validation sets, the datapoints from the same song would be present in all these sets. This would obviously result in a high accuracy due to the skewed nature of the data.\n",
    "\n",
    "I have therefore used the original files for classification and not split the data.\n",
    "\n",
    "<b>Approach:</b>\n",
    "\n",
    "I first convert the audio files into Mel Spectrograms. Then, I downloaded these Mel Spectrograms as images locally for further use.\n",
    "\n",
    "These Mel Spectrograms can be now used as the new dataset to classify the genres. Since it is a image classification task, I use a pretrained ResNet18 model for this task."
   ]
  },
  {
   "cell_type": "markdown",
   "metadata": {},
   "source": [
    "## Importing Libraries"
   ]
  },
  {
   "cell_type": "code",
   "execution_count": 1,
   "metadata": {
    "_cell_guid": "b1076dfc-b9ad-4769-8c92-a6c4dae69d19",
    "_uuid": "8f2839f25d086af736a60e9eeb907d3b93b6e0e5",
    "execution": {
     "iopub.execute_input": "2023-05-24T12:48:04.132573Z",
     "iopub.status.busy": "2023-05-24T12:48:04.131917Z",
     "iopub.status.idle": "2023-05-24T12:48:09.909818Z",
     "shell.execute_reply": "2023-05-24T12:48:09.908646Z",
     "shell.execute_reply.started": "2023-05-24T12:48:04.132453Z"
    }
   },
   "outputs": [],
   "source": [
    "import pandas as pd\n",
    "import numpy as np\n",
    "import matplotlib.pyplot as plt\n",
    "import seaborn as sns\n",
    "\n",
    "import glob\n",
    "import os\n",
    "\n",
    "import librosa\n",
    "import librosa.display\n",
    "\n",
    "\n",
    "import torch\n",
    "from torch import nn\n",
    "from torchvision import models, transforms, datasets\n",
    "\n",
    "from time import time\n",
    "from tqdm import tqdm"
   ]
  },
  {
   "cell_type": "markdown",
   "metadata": {},
   "source": [
    "## Defining Parameters"
   ]
  },
  {
   "cell_type": "code",
   "execution_count": 2,
   "metadata": {
    "execution": {
     "iopub.execute_input": "2023-05-24T12:48:09.912861Z",
     "iopub.status.busy": "2023-05-24T12:48:09.912169Z",
     "iopub.status.idle": "2023-05-24T12:48:10.029842Z",
     "shell.execute_reply": "2023-05-24T12:48:10.028154Z",
     "shell.execute_reply.started": "2023-05-24T12:48:09.912821Z"
    }
   },
   "outputs": [],
   "source": [
    "seed = 12\n",
    "np.random.seed(seed)\n",
    "\n",
    "path = \"../input/gtzan-dataset-music-genre-classification/\"\n",
    "\n",
    "path_audio_files = path + \"Data/genres_original/\"\n",
    "\n",
    "path_imgs = \"./mel_spectrogram_imgs/\"\n",
    "\n",
    "batch_size = 32\n",
    "\n",
    "hop_length = 512\n",
    "\n",
    "n_fft = 2048\n",
    "\n",
    "device = 'cuda' if torch.cuda.is_available() else 'cpu'\n",
    "\n",
    "genre_dict = {\"blues\":0,\"classical\":1,\"country\":2,\"disco\":3,\"hiphop\":4,\"jazz\":5,\"metal\":6,\"pop\":7,\"reggae\":8,\"rock\":9}"
   ]
  },
  {
   "cell_type": "markdown",
   "metadata": {},
   "source": [
    "## Transforming Audio Files into Mel Spectograms and Saving the Images"
   ]
  },
  {
   "cell_type": "code",
   "execution_count": 3,
   "metadata": {
    "execution": {
     "iopub.execute_input": "2023-05-24T12:48:10.032675Z",
     "iopub.status.busy": "2023-05-24T12:48:10.031633Z",
     "iopub.status.idle": "2023-05-24T12:53:05.238220Z",
     "shell.execute_reply": "2023-05-24T12:53:05.236963Z",
     "shell.execute_reply.started": "2023-05-24T12:48:10.032627Z"
    }
   },
   "outputs": [
    {
     "name": "stdout",
     "output_type": "stream",
     "text": [
      "Transforming the Audio Files into Mel Spectrograms:\n",
      "\t blues\n",
      "\t classical\n",
      "\t country\n",
      "\t disco\n",
      "\t hiphop\n",
      "\t jazz\n",
      "\t metal\n",
      "\t pop\n",
      "\t reggae\n",
      "\t rock\n",
      "Saving the Mel Spectrogram Images:\n",
      "\t blues\n",
      "\t classical\n",
      "\t country\n",
      "\t disco\n",
      "\t hiphop\n",
      "\t jazz\n",
      "\t metal\n",
      "\t pop\n",
      "\t reggae\n",
      "\t rock\n"
     ]
    }
   ],
   "source": [
    "print(\"Transforming the Audio Files into Mel Spectrograms:\")\n",
    "\n",
    "mel_spectogram_data = {}\n",
    "for genre in genre_dict.keys():\n",
    "    print(\"\\t\",genre)\n",
    "    \n",
    "    mel_spectogram_data[genre] = []\n",
    "\n",
    "    for name in glob.glob(path_audio_files + genre + \"/*\"):\n",
    "        \n",
    "        if(name != \"../input/gtzan-dataset-music-genre-classification/Data/genres_original/jazz/jazz.00054.wav\"):\n",
    "        \n",
    "            data,sampling_rate = librosa.load(name)\n",
    "\n",
    "            mel_spec = librosa.feature.melspectrogram(y = data.ravel(), sr=sampling_rate,hop_length = hop_length)\n",
    "            mel_spec_db = librosa.amplitude_to_db(mel_spec, ref=np.max)\n",
    "\n",
    "            mel_spectogram_data[genre].append(mel_spec_db)\n",
    "            \n",
    "\n",
    "print(\"Saving the Mel Spectrogram Images:\")\n",
    "            \n",
    "os.mkdir(path_imgs)\n",
    "for genre in genre_dict.keys():\n",
    "    print(\"\\t\",genre)\n",
    "    try:\n",
    "        os.mkdir(path_imgs + genre)\n",
    "    except:\n",
    "        pass\n",
    "    \n",
    "    for i in range(len(mel_spectogram_data[genre])):\n",
    "\n",
    "        fig, ax = plt.subplots(1, figsize=(12,8))\n",
    "\n",
    "        img = librosa.display.specshow(mel_spectogram_data[genre][i], sr = sampling_rate, hop_length = hop_length,cmap = 'cool',ax=ax)\n",
    "\n",
    "        fig.savefig(path_imgs + genre + \"/\" + genre + \"_\" + str(i) + \".png\")\n",
    "        \n",
    "        plt.close()"
   ]
  },
  {
   "cell_type": "code",
   "execution_count": 4,
   "metadata": {
    "execution": {
     "iopub.execute_input": "2023-05-24T12:53:05.242434Z",
     "iopub.status.busy": "2023-05-24T12:53:05.241960Z",
     "iopub.status.idle": "2023-05-24T12:53:07.393446Z",
     "shell.execute_reply": "2023-05-24T12:53:07.392021Z",
     "shell.execute_reply.started": "2023-05-24T12:53:05.242383Z"
    }
   },
   "outputs": [
    {
     "data": {
      "text/plain": [
       "2037949"
      ]
     },
     "execution_count": 4,
     "metadata": {},
     "output_type": "execute_result"
    }
   ],
   "source": [
    "import gc\n",
    "gc.collect()"
   ]
  },
  {
   "cell_type": "markdown",
   "metadata": {},
   "source": [
    "## Load and Transform the Data"
   ]
  },
  {
   "cell_type": "code",
   "execution_count": 5,
   "metadata": {
    "execution": {
     "iopub.execute_input": "2023-05-24T12:53:07.395981Z",
     "iopub.status.busy": "2023-05-24T12:53:07.395333Z",
     "iopub.status.idle": "2023-05-24T12:53:07.438517Z",
     "shell.execute_reply": "2023-05-24T12:53:07.437479Z",
     "shell.execute_reply.started": "2023-05-24T12:53:07.395939Z"
    }
   },
   "outputs": [
    {
     "name": "stdout",
     "output_type": "stream",
     "text": [
      "Length of Train:800; Length of Val:100; Length of Test:99\n",
      "CPU times: user 18.7 ms, sys: 1.37 ms, total: 20 ms\n",
      "Wall time: 30.1 ms\n"
     ]
    }
   ],
   "source": [
    "%%time\n",
    "\n",
    "# Define Tranforms\n",
    "train_transforms = transforms.Compose([\n",
    "    #transforms.Resize(224),\n",
    "    transforms.ToTensor(),\n",
    "    \n",
    "    transforms.Normalize(mean=[0.4931, 0.9151, 0.9960], std=[0.4495, 0.1716, 0.0602])\n",
    "])\n",
    "\n",
    "test_transforms = transforms.Compose([\n",
    "    #transforms.Resize(224),\n",
    "    transforms.ToTensor(),\n",
    "    transforms.Normalize(mean=[0.4931, 0.9151, 0.9960], std=[0.4495, 0.1716, 0.0602])\n",
    "])\n",
    "\n",
    "# Load the data\n",
    "train_dataset = datasets.ImageFolder(path_imgs, transform = train_transforms)\n",
    "val_dataset = datasets.ImageFolder(path_imgs, transform = test_transforms)\n",
    "test_dataset = datasets.ImageFolder(path_imgs, transform = test_transforms)\n",
    "\n",
    "\n",
    "torch.manual_seed(1)\n",
    "num_train_samples = len(train_dataset)\n",
    "#num_train_samples = 20000\n",
    "\n",
    "# Permute the data\n",
    "indices = torch.randperm(num_train_samples)\n",
    "\n",
    "# Split the data into Train and Validation\n",
    "train_testval_split = 0.2\n",
    "train_split = int(num_train_samples * train_testval_split)\n",
    "val_split = int(train_split * 0.5)\n",
    "\n",
    "train_subset = torch.utils.data.Subset(train_dataset, indices[train_split:])\n",
    "val_subset = torch.utils.data.Subset(val_dataset, indices[val_split:train_split])\n",
    "test_subset = torch.utils.data.Subset(test_dataset, indices[:val_split])\n",
    "\n",
    "\n",
    "print(f\"Length of Train:{len(train_subset)}; Length of Val:{len(val_subset)}; Length of Test:{len(test_subset)}\")\n",
    "\n",
    "\n",
    "\n",
    "# Make DataLoaders \n",
    "train_dataloader = torch.utils.data.DataLoader(\n",
    "    dataset=train_subset, \n",
    "    batch_size=batch_size,\n",
    "    shuffle=True\n",
    ")\n",
    "\n",
    "val_dataloader = torch.utils.data.DataLoader(\n",
    "    dataset=val_subset,\n",
    "    batch_size=batch_size,\n",
    "    shuffle=False\n",
    ")\n",
    "\n",
    "# Classes\n",
    "classes = train_dataloader.dataset.dataset.classes"
   ]
  },
  {
   "cell_type": "code",
   "execution_count": 6,
   "metadata": {
    "execution": {
     "iopub.execute_input": "2023-05-24T12:53:07.440456Z",
     "iopub.status.busy": "2023-05-24T12:53:07.440094Z",
     "iopub.status.idle": "2023-05-24T12:53:08.493548Z",
     "shell.execute_reply": "2023-05-24T12:53:08.492327Z",
     "shell.execute_reply.started": "2023-05-24T12:53:07.440420Z"
    }
   },
   "outputs": [
    {
     "name": "stdout",
     "output_type": "stream",
     "text": [
      "mean and std: \n",
      " tensor([-7.7954e-05, -1.2402e-04,  4.4564e-05]) tensor([0.9999, 1.0002, 1.0004])\n"
     ]
    }
   ],
   "source": [
    "def mean_std(loader):\n",
    "    images, lebels = next(iter(loader))\n",
    "    # shape of images = [b,c,w,h]\n",
    "    mean, std = images.mean([0,2,3]), images.std([0,2,3])\n",
    "    return mean, std\n",
    "\n",
    "mean, std = mean_std(train_dataloader)\n",
    "print(\"mean and std: \\n\", mean, std)"
   ]
  },
  {
   "cell_type": "markdown",
   "metadata": {},
   "source": [
    "## ResNet18 - Transfer Learning"
   ]
  },
  {
   "cell_type": "code",
   "execution_count": 7,
   "metadata": {
    "execution": {
     "iopub.execute_input": "2023-05-24T12:53:08.496787Z",
     "iopub.status.busy": "2023-05-24T12:53:08.495983Z",
     "iopub.status.idle": "2023-05-24T12:53:09.099242Z",
     "shell.execute_reply": "2023-05-24T12:53:09.098071Z",
     "shell.execute_reply.started": "2023-05-24T12:53:08.496725Z"
    }
   },
   "outputs": [
    {
     "name": "stderr",
     "output_type": "stream",
     "text": [
      "Downloading: \"https://download.pytorch.org/models/resnet18-f37072fd.pth\" to /root/.cache/torch/hub/checkpoints/resnet18-f37072fd.pth\n"
     ]
    },
    {
     "data": {
      "application/vnd.jupyter.widget-view+json": {
       "model_id": "fd30eb57bc8544ae92b8d1b7d9abece4",
       "version_major": 2,
       "version_minor": 0
      },
      "text/plain": [
       "  0%|          | 0.00/44.7M [00:00<?, ?B/s]"
      ]
     },
     "metadata": {},
     "output_type": "display_data"
    }
   ],
   "source": [
    "# Load a Pretrained Model\n",
    "resnet = models.resnet18(pretrained=True)\n",
    "\n",
    "# Fix the trainable parameters\n",
    "for parameter in resnet.parameters():\n",
    "    parameter.requires_grad = False\n",
    "    \n",
    "    \n",
    "# Number of Input Features in the Last Fully Connected Layer\n",
    "in_features = resnet.fc.in_features\n",
    "\n",
    "# Replacing the Last Fully Connected Layer\n",
    "fc = nn.Linear(in_features=in_features, out_features=len(classes))\n",
    "resnet.fc = fc\n",
    "\n",
    "\n",
    "# Updating the Weights and Bias of the last layer\n",
    "params_to_update = []\n",
    "for name, param in resnet.named_parameters():\n",
    "    if param.requires_grad == True:\n",
    "        params_to_update.append(param)\n",
    "\n",
    "# Define the Loss and Optimizer Functions\n",
    "criterion = nn.CrossEntropyLoss()\n",
    "optimizer = torch.optim.Adam(params_to_update, lr=0.001)"
   ]
  },
  {
   "cell_type": "markdown",
   "metadata": {},
   "source": [
    "## Training the Model"
   ]
  },
  {
   "cell_type": "code",
   "execution_count": 8,
   "metadata": {
    "execution": {
     "iopub.execute_input": "2023-05-24T12:53:09.101589Z",
     "iopub.status.busy": "2023-05-24T12:53:09.101136Z",
     "iopub.status.idle": "2023-05-24T12:53:09.120254Z",
     "shell.execute_reply": "2023-05-24T12:53:09.118851Z",
     "shell.execute_reply.started": "2023-05-24T12:53:09.101544Z"
    }
   },
   "outputs": [],
   "source": [
    "def train(model, criterion, optimizer, train_dataloader,test_dataloader,print_every,num_epoch):\n",
    "    \n",
    "    steps = 0\n",
    "    train_losses, val_losses = [], []\n",
    "    \n",
    "    model.to(device)\n",
    "    for epoch in tqdm(range(num_epoch)):\n",
    "        running_loss = 0\n",
    "        correct_train = 0\n",
    "        total_train = 0\n",
    "        start_time = time()\n",
    "        iter_time = time()\n",
    "        \n",
    "        model.train()\n",
    "        for i, (images, labels) in enumerate(train_dataloader):\n",
    "            steps += 1\n",
    "            images = images.to(device)\n",
    "            labels = labels.to(device)\n",
    "            \n",
    "            # Forward pass\n",
    "            output = model(images)\n",
    "            loss = criterion(output, labels)\n",
    "\n",
    "            correct_train += (torch.max(output, dim=1)[1] == labels).sum()\n",
    "            total_train += labels.size(0)\n",
    "            \n",
    "            # Backward and optimize\n",
    "            optimizer.zero_grad()\n",
    "            loss.backward()\n",
    "            optimizer.step()\n",
    "\n",
    "            running_loss += loss.item()\n",
    "            \n",
    "            # Logging\n",
    "            if steps % print_every == 0:\n",
    "                print(f'Epoch [{epoch + 1}]/[{num_epoch}]. Batch [{i + 1}]/[{len(train_dataloader)}].', end=' ')\n",
    "                print(f'Train loss {running_loss / steps:.3f}.', end=' ')\n",
    "                print(f'Train acc {correct_train / total_train * 100:.3f}.', end=' ')\n",
    "                with torch.no_grad():\n",
    "                    model.eval()\n",
    "                    correct_val, total_val = 0, 0\n",
    "                    val_loss = 0\n",
    "                    for images, labels in test_dataloader:\n",
    "                        images = images.to(device)\n",
    "                        labels = labels.to(device)\n",
    "                        output = model(images)\n",
    "                        loss = criterion(output, labels)\n",
    "                        val_loss += loss.item()\n",
    "                        \n",
    "                        correct_val += (torch.max(output, dim=1)[1] == labels).sum()\n",
    "                        total_val += labels.size(0)\n",
    "\n",
    "                print(f'Val loss {val_loss / len(test_dataloader):.3f}. Val acc {correct_val / total_val * 100:.3f}.', end=' ')\n",
    "                print(f'Took {time() - iter_time:.3f} seconds')\n",
    "                iter_time = time()\n",
    "                \n",
    "                \n",
    "                train_losses.append(running_loss / total_train)\n",
    "                val_losses.append(val_loss / total_val)\n",
    "\n",
    "\n",
    "        print(f'Epoch took {time() - start_time}') \n",
    "        torch.save(model, f'checkpoint_{correct_val / total_val * 100:.2f}')\n",
    "        \n",
    "    return model, train_losses, val_losses"
   ]
  },
  {
   "cell_type": "code",
   "execution_count": 9,
   "metadata": {
    "execution": {
     "iopub.execute_input": "2023-05-24T12:53:09.122879Z",
     "iopub.status.busy": "2023-05-24T12:53:09.122390Z",
     "iopub.status.idle": "2023-05-24T13:34:20.193444Z",
     "shell.execute_reply": "2023-05-24T13:34:20.191702Z",
     "shell.execute_reply.started": "2023-05-24T12:53:09.122836Z"
    }
   },
   "outputs": [
    {
     "name": "stderr",
     "output_type": "stream",
     "text": [
      "  0%|          | 0/100 [00:00<?, ?it/s]"
     ]
    },
    {
     "name": "stdout",
     "output_type": "stream",
     "text": [
      "Epoch [1]/[100]. Batch [25]/[25]. Train loss 2.191. Train acc 23.375. "
     ]
    },
    {
     "name": "stderr",
     "output_type": "stream",
     "text": [
      "  1%|          | 1/100 [00:34<57:18, 34.73s/it]"
     ]
    },
    {
     "name": "stdout",
     "output_type": "stream",
     "text": [
      "Val loss 2.026. Val acc 38.000. Took 34.606 seconds\n",
      "Epoch took 34.60697603225708\n",
      "Epoch [2]/[100]. Batch [25]/[25]. Train loss 0.981. Train acc 36.500. "
     ]
    },
    {
     "name": "stderr",
     "output_type": "stream",
     "text": [
      "  2%|▏         | 2/100 [00:59<47:02, 28.80s/it]"
     ]
    },
    {
     "name": "stdout",
     "output_type": "stream",
     "text": [
      "Val loss 1.737. Val acc 48.000. Took 24.504 seconds\n",
      "Epoch took 24.504723072052002\n",
      "Epoch [3]/[100]. Batch [25]/[25]. Train loss 0.600. Train acc 38.625. "
     ]
    },
    {
     "name": "stderr",
     "output_type": "stream",
     "text": [
      "  3%|▎         | 3/100 [01:24<43:44, 27.06s/it]"
     ]
    },
    {
     "name": "stdout",
     "output_type": "stream",
     "text": [
      "Val loss 1.657. Val acc 48.000. Took 24.830 seconds\n",
      "Epoch took 24.830776929855347\n",
      "Epoch [4]/[100]. Batch [25]/[25]. Train loss 0.419. Train acc 48.875. "
     ]
    },
    {
     "name": "stderr",
     "output_type": "stream",
     "text": [
      "  4%|▍         | 4/100 [01:48<41:30, 25.94s/it]"
     ]
    },
    {
     "name": "stdout",
     "output_type": "stream",
     "text": [
      "Val loss 1.575. Val acc 43.000. Took 24.117 seconds\n",
      "Epoch took 24.117101907730103\n",
      "Epoch [5]/[100]. Batch [25]/[25]. Train loss 0.319. Train acc 48.000. "
     ]
    },
    {
     "name": "stderr",
     "output_type": "stream",
     "text": [
      "  5%|▌         | 5/100 [02:13<40:18, 25.46s/it]"
     ]
    },
    {
     "name": "stdout",
     "output_type": "stream",
     "text": [
      "Val loss 1.426. Val acc 60.000. Took 24.485 seconds\n",
      "Epoch took 24.485589504241943\n",
      "Epoch [6]/[100]. Batch [25]/[25]. Train loss 0.252. Train acc 55.250. "
     ]
    },
    {
     "name": "stderr",
     "output_type": "stream",
     "text": [
      "  6%|▌         | 6/100 [02:37<39:20, 25.12s/it]"
     ]
    },
    {
     "name": "stdout",
     "output_type": "stream",
     "text": [
      "Val loss 1.393. Val acc 61.000. Took 24.342 seconds\n",
      "Epoch took 24.34203577041626\n",
      "Epoch [7]/[100]. Batch [25]/[25]. Train loss 0.205. Train acc 56.125. "
     ]
    },
    {
     "name": "stderr",
     "output_type": "stream",
     "text": [
      "  7%|▋         | 7/100 [03:01<38:31, 24.85s/it]"
     ]
    },
    {
     "name": "stdout",
     "output_type": "stream",
     "text": [
      "Val loss 1.409. Val acc 57.000. Took 24.207 seconds\n",
      "Epoch took 24.207781553268433\n",
      "Epoch [8]/[100]. Batch [25]/[25]. Train loss 0.176. Train acc 56.625. "
     ]
    },
    {
     "name": "stderr",
     "output_type": "stream",
     "text": [
      "  8%|▊         | 8/100 [03:26<37:53, 24.72s/it]"
     ]
    },
    {
     "name": "stdout",
     "output_type": "stream",
     "text": [
      "Val loss 1.312. Val acc 60.000. Took 24.297 seconds\n",
      "Epoch took 24.29735827445984\n",
      "Epoch [9]/[100]. Batch [25]/[25]. Train loss 0.151. Train acc 58.375. "
     ]
    },
    {
     "name": "stderr",
     "output_type": "stream",
     "text": [
      "  9%|▉         | 9/100 [03:50<37:17, 24.59s/it]"
     ]
    },
    {
     "name": "stdout",
     "output_type": "stream",
     "text": [
      "Val loss 1.209. Val acc 65.000. Took 24.204 seconds\n",
      "Epoch took 24.2045578956604\n",
      "Epoch [10]/[100]. Batch [25]/[25]. Train loss 0.133. Train acc 58.125. "
     ]
    },
    {
     "name": "stderr",
     "output_type": "stream",
     "text": [
      " 10%|█         | 10/100 [04:15<37:00, 24.67s/it]"
     ]
    },
    {
     "name": "stdout",
     "output_type": "stream",
     "text": [
      "Val loss 1.189. Val acc 62.000. Took 24.770 seconds\n",
      "Epoch took 24.770497798919678\n",
      "Epoch [11]/[100]. Batch [25]/[25]. Train loss 0.115. Train acc 63.375. "
     ]
    },
    {
     "name": "stderr",
     "output_type": "stream",
     "text": [
      " 11%|█         | 11/100 [04:40<36:54, 24.88s/it]"
     ]
    },
    {
     "name": "stdout",
     "output_type": "stream",
     "text": [
      "Val loss 1.199. Val acc 60.000. Took 25.217 seconds\n",
      "Epoch took 25.217743635177612\n",
      "Epoch [12]/[100]. Batch [25]/[25]. Train loss 0.104. Train acc 63.875. "
     ]
    },
    {
     "name": "stderr",
     "output_type": "stream",
     "text": [
      " 12%|█▏        | 12/100 [05:05<36:22, 24.81s/it]"
     ]
    },
    {
     "name": "stdout",
     "output_type": "stream",
     "text": [
      "Val loss 1.144. Val acc 66.000. Took 24.532 seconds\n",
      "Epoch took 24.532333850860596\n",
      "Epoch [13]/[100]. Batch [25]/[25]. Train loss 0.094. Train acc 63.750. "
     ]
    },
    {
     "name": "stderr",
     "output_type": "stream",
     "text": [
      " 13%|█▎        | 13/100 [05:30<35:51, 24.73s/it]"
     ]
    },
    {
     "name": "stdout",
     "output_type": "stream",
     "text": [
      "Val loss 1.128. Val acc 62.000. Took 24.426 seconds\n",
      "Epoch took 24.426452159881592\n",
      "Epoch [14]/[100]. Batch [25]/[25]. Train loss 0.083. Train acc 65.750. "
     ]
    },
    {
     "name": "stderr",
     "output_type": "stream",
     "text": [
      " 14%|█▍        | 14/100 [05:54<35:26, 24.72s/it]"
     ]
    },
    {
     "name": "stdout",
     "output_type": "stream",
     "text": [
      "Val loss 1.164. Val acc 61.000. Took 24.581 seconds\n",
      "Epoch took 24.581513166427612\n",
      "Epoch [15]/[100]. Batch [25]/[25]. Train loss 0.078. Train acc 66.375. "
     ]
    },
    {
     "name": "stderr",
     "output_type": "stream",
     "text": [
      " 15%|█▌        | 15/100 [06:19<34:59, 24.70s/it]"
     ]
    },
    {
     "name": "stdout",
     "output_type": "stream",
     "text": [
      "Val loss 1.197. Val acc 62.000. Took 24.507 seconds\n",
      "Epoch took 24.507153749465942\n",
      "Epoch [16]/[100]. Batch [25]/[25]. Train loss 0.071. Train acc 66.875. "
     ]
    },
    {
     "name": "stderr",
     "output_type": "stream",
     "text": [
      " 16%|█▌        | 16/100 [06:43<34:30, 24.64s/it]"
     ]
    },
    {
     "name": "stdout",
     "output_type": "stream",
     "text": [
      "Val loss 1.116. Val acc 64.000. Took 24.420 seconds\n",
      "Epoch took 24.42033362388611\n",
      "Epoch [17]/[100]. Batch [25]/[25]. Train loss 0.065. Train acc 65.875. "
     ]
    },
    {
     "name": "stderr",
     "output_type": "stream",
     "text": [
      " 17%|█▋        | 17/100 [07:08<34:04, 24.63s/it]"
     ]
    },
    {
     "name": "stdout",
     "output_type": "stream",
     "text": [
      "Val loss 1.109. Val acc 62.000. Took 24.485 seconds\n",
      "Epoch took 24.485793590545654\n",
      "Epoch [18]/[100]. Batch [25]/[25]. Train loss 0.062. Train acc 65.250. "
     ]
    },
    {
     "name": "stderr",
     "output_type": "stream",
     "text": [
      " 18%|█▊        | 18/100 [07:32<33:33, 24.56s/it]"
     ]
    },
    {
     "name": "stdout",
     "output_type": "stream",
     "text": [
      "Val loss 1.156. Val acc 60.000. Took 24.255 seconds\n",
      "Epoch took 24.255173921585083\n",
      "Epoch [19]/[100]. Batch [25]/[25]. Train loss 0.057. Train acc 67.125. "
     ]
    },
    {
     "name": "stderr",
     "output_type": "stream",
     "text": [
      " 19%|█▉        | 19/100 [07:57<33:09, 24.56s/it]"
     ]
    },
    {
     "name": "stdout",
     "output_type": "stream",
     "text": [
      "Val loss 1.175. Val acc 60.000. Took 24.361 seconds\n",
      "Epoch took 24.363568544387817\n",
      "Epoch [20]/[100]. Batch [25]/[25]. Train loss 0.053. Train acc 67.000. "
     ]
    },
    {
     "name": "stderr",
     "output_type": "stream",
     "text": [
      " 20%|██        | 20/100 [08:22<32:50, 24.63s/it]"
     ]
    },
    {
     "name": "stdout",
     "output_type": "stream",
     "text": [
      "Val loss 1.035. Val acc 66.000. Took 24.662 seconds\n",
      "Epoch took 24.662566661834717\n",
      "Epoch [21]/[100]. Batch [25]/[25]. Train loss 0.049. Train acc 69.625. "
     ]
    },
    {
     "name": "stderr",
     "output_type": "stream",
     "text": [
      " 21%|██        | 21/100 [08:46<32:25, 24.62s/it]"
     ]
    },
    {
     "name": "stdout",
     "output_type": "stream",
     "text": [
      "Val loss 1.072. Val acc 65.000. Took 24.469 seconds\n",
      "Epoch took 24.46972942352295\n",
      "Epoch [22]/[100]. Batch [25]/[25]. Train loss 0.048. Train acc 67.375. "
     ]
    },
    {
     "name": "stderr",
     "output_type": "stream",
     "text": [
      " 22%|██▏       | 22/100 [09:11<31:55, 24.56s/it]"
     ]
    },
    {
     "name": "stdout",
     "output_type": "stream",
     "text": [
      "Val loss 1.141. Val acc 60.000. Took 24.283 seconds\n",
      "Epoch took 24.283053159713745\n",
      "Epoch [23]/[100]. Batch [25]/[25]. Train loss 0.044. Train acc 68.875. "
     ]
    },
    {
     "name": "stderr",
     "output_type": "stream",
     "text": [
      " 23%|██▎       | 23/100 [09:35<31:31, 24.56s/it]"
     ]
    },
    {
     "name": "stdout",
     "output_type": "stream",
     "text": [
      "Val loss 1.111. Val acc 61.000. Took 24.411 seconds\n",
      "Epoch took 24.41175675392151\n",
      "Epoch [24]/[100]. Batch [25]/[25]. Train loss 0.041. Train acc 70.000. "
     ]
    },
    {
     "name": "stderr",
     "output_type": "stream",
     "text": [
      " 24%|██▍       | 24/100 [10:00<31:07, 24.57s/it]"
     ]
    },
    {
     "name": "stdout",
     "output_type": "stream",
     "text": [
      "Val loss 1.020. Val acc 64.000. Took 24.459 seconds\n",
      "Epoch took 24.45938801765442\n",
      "Epoch [25]/[100]. Batch [25]/[25]. Train loss 0.039. Train acc 71.125. "
     ]
    },
    {
     "name": "stderr",
     "output_type": "stream",
     "text": [
      " 25%|██▌       | 25/100 [10:25<30:45, 24.61s/it]"
     ]
    },
    {
     "name": "stdout",
     "output_type": "stream",
     "text": [
      "Val loss 1.030. Val acc 64.000. Took 24.563 seconds\n",
      "Epoch took 24.563442945480347\n",
      "Epoch [26]/[100]. Batch [25]/[25]. Train loss 0.037. Train acc 71.875. "
     ]
    },
    {
     "name": "stderr",
     "output_type": "stream",
     "text": [
      " 26%|██▌       | 26/100 [10:49<30:18, 24.57s/it]"
     ]
    },
    {
     "name": "stdout",
     "output_type": "stream",
     "text": [
      "Val loss 1.005. Val acc 64.000. Took 24.341 seconds\n",
      "Epoch took 24.341344833374023\n",
      "Epoch [27]/[100]. Batch [25]/[25]. Train loss 0.035. Train acc 72.500. "
     ]
    },
    {
     "name": "stderr",
     "output_type": "stream",
     "text": [
      " 27%|██▋       | 27/100 [11:14<29:51, 24.54s/it]"
     ]
    },
    {
     "name": "stdout",
     "output_type": "stream",
     "text": [
      "Val loss 1.009. Val acc 66.000. Took 24.362 seconds\n",
      "Epoch took 24.362175703048706\n",
      "Epoch [28]/[100]. Batch [25]/[25]. Train loss 0.034. Train acc 72.750. "
     ]
    },
    {
     "name": "stderr",
     "output_type": "stream",
     "text": [
      " 28%|██▊       | 28/100 [11:38<29:30, 24.59s/it]"
     ]
    },
    {
     "name": "stdout",
     "output_type": "stream",
     "text": [
      "Val loss 1.001. Val acc 68.000. Took 24.593 seconds\n",
      "Epoch took 24.593103170394897\n",
      "Epoch [29]/[100]. Batch [25]/[25]. Train loss 0.033. Train acc 71.000. "
     ]
    },
    {
     "name": "stderr",
     "output_type": "stream",
     "text": [
      " 29%|██▉       | 29/100 [12:03<29:06, 24.60s/it]"
     ]
    },
    {
     "name": "stdout",
     "output_type": "stream",
     "text": [
      "Val loss 0.996. Val acc 63.000. Took 24.551 seconds\n",
      "Epoch took 24.551299810409546\n",
      "Epoch [30]/[100]. Batch [25]/[25]. Train loss 0.031. Train acc 73.250. "
     ]
    },
    {
     "name": "stderr",
     "output_type": "stream",
     "text": [
      " 30%|███       | 30/100 [12:28<28:42, 24.61s/it]"
     ]
    },
    {
     "name": "stdout",
     "output_type": "stream",
     "text": [
      "Val loss 0.924. Val acc 67.000. Took 24.516 seconds\n",
      "Epoch took 24.516374826431274\n",
      "Epoch [31]/[100]. Batch [25]/[25]. Train loss 0.030. Train acc 71.125. "
     ]
    },
    {
     "name": "stderr",
     "output_type": "stream",
     "text": [
      " 31%|███       | 31/100 [12:52<28:16, 24.58s/it]"
     ]
    },
    {
     "name": "stdout",
     "output_type": "stream",
     "text": [
      "Val loss 0.927. Val acc 70.000. Took 24.436 seconds\n",
      "Epoch took 24.436882495880127\n",
      "Epoch [32]/[100]. Batch [25]/[25]. Train loss 0.028. Train acc 74.875. "
     ]
    },
    {
     "name": "stderr",
     "output_type": "stream",
     "text": [
      " 32%|███▏      | 32/100 [13:17<27:54, 24.62s/it]"
     ]
    },
    {
     "name": "stdout",
     "output_type": "stream",
     "text": [
      "Val loss 0.956. Val acc 66.000. Took 24.579 seconds\n",
      "Epoch took 24.579431295394897\n",
      "Epoch [33]/[100]. Batch [25]/[25]. Train loss 0.026. Train acc 75.000. "
     ]
    },
    {
     "name": "stderr",
     "output_type": "stream",
     "text": [
      " 33%|███▎      | 33/100 [13:41<27:28, 24.60s/it]"
     ]
    },
    {
     "name": "stdout",
     "output_type": "stream",
     "text": [
      "Val loss 0.922. Val acc 68.000. Took 24.414 seconds\n",
      "Epoch took 24.414700746536255\n",
      "Epoch [34]/[100]. Batch [25]/[25]. Train loss 0.026. Train acc 74.500. "
     ]
    },
    {
     "name": "stderr",
     "output_type": "stream",
     "text": [
      " 34%|███▍      | 34/100 [14:06<27:02, 24.58s/it]"
     ]
    },
    {
     "name": "stdout",
     "output_type": "stream",
     "text": [
      "Val loss 0.900. Val acc 68.000. Took 24.402 seconds\n",
      "Epoch took 24.402430534362793\n",
      "Epoch [35]/[100]. Batch [25]/[25]. Train loss 0.025. Train acc 73.125. "
     ]
    },
    {
     "name": "stderr",
     "output_type": "stream",
     "text": [
      " 35%|███▌      | 35/100 [14:30<26:34, 24.53s/it]"
     ]
    },
    {
     "name": "stdout",
     "output_type": "stream",
     "text": [
      "Val loss 0.899. Val acc 67.000. Took 24.278 seconds\n",
      "Epoch took 24.279221057891846\n",
      "Epoch [36]/[100]. Batch [25]/[25]. Train loss 0.024. Train acc 73.250. "
     ]
    },
    {
     "name": "stderr",
     "output_type": "stream",
     "text": [
      " 36%|███▌      | 36/100 [14:55<26:04, 24.44s/it]"
     ]
    },
    {
     "name": "stdout",
     "output_type": "stream",
     "text": [
      "Val loss 0.916. Val acc 68.000. Took 24.121 seconds\n",
      "Epoch took 24.121246576309204\n",
      "Epoch [37]/[100]. Batch [25]/[25]. Train loss 0.023. Train acc 74.750. "
     ]
    },
    {
     "name": "stderr",
     "output_type": "stream",
     "text": [
      " 37%|███▋      | 37/100 [15:19<25:41, 24.47s/it]"
     ]
    },
    {
     "name": "stdout",
     "output_type": "stream",
     "text": [
      "Val loss 0.944. Val acc 66.000. Took 24.416 seconds\n",
      "Epoch took 24.416956663131714\n",
      "Epoch [38]/[100]. Batch [25]/[25]. Train loss 0.023. Train acc 74.500. "
     ]
    },
    {
     "name": "stderr",
     "output_type": "stream",
     "text": [
      " 38%|███▊      | 38/100 [15:44<25:24, 24.58s/it]"
     ]
    },
    {
     "name": "stdout",
     "output_type": "stream",
     "text": [
      "Val loss 0.878. Val acc 69.000. Took 24.720 seconds\n",
      "Epoch took 24.72075915336609\n",
      "Epoch [39]/[100]. Batch [25]/[25]. Train loss 0.021. Train acc 75.125. "
     ]
    },
    {
     "name": "stderr",
     "output_type": "stream",
     "text": [
      " 39%|███▉      | 39/100 [16:09<25:01, 24.62s/it]"
     ]
    },
    {
     "name": "stdout",
     "output_type": "stream",
     "text": [
      "Val loss 0.866. Val acc 70.000. Took 24.558 seconds\n",
      "Epoch took 24.558101654052734\n",
      "Epoch [40]/[100]. Batch [25]/[25]. Train loss 0.021. Train acc 75.625. "
     ]
    },
    {
     "name": "stderr",
     "output_type": "stream",
     "text": [
      " 40%|████      | 40/100 [16:33<24:30, 24.51s/it]"
     ]
    },
    {
     "name": "stdout",
     "output_type": "stream",
     "text": [
      "Val loss 0.876. Val acc 70.000. Took 24.134 seconds\n",
      "Epoch took 24.13498067855835\n",
      "Epoch [41]/[100]. Batch [25]/[25]. Train loss 0.020. Train acc 76.750. "
     ]
    },
    {
     "name": "stderr",
     "output_type": "stream",
     "text": [
      " 41%|████      | 41/100 [16:57<24:06, 24.52s/it]"
     ]
    },
    {
     "name": "stdout",
     "output_type": "stream",
     "text": [
      "Val loss 0.873. Val acc 69.000. Took 24.406 seconds\n",
      "Epoch took 24.406288862228394\n",
      "Epoch [42]/[100]. Batch [25]/[25]. Train loss 0.019. Train acc 77.750. "
     ]
    },
    {
     "name": "stderr",
     "output_type": "stream",
     "text": [
      " 42%|████▏     | 42/100 [17:22<23:44, 24.57s/it]"
     ]
    },
    {
     "name": "stdout",
     "output_type": "stream",
     "text": [
      "Val loss 0.862. Val acc 68.000. Took 24.563 seconds\n",
      "Epoch took 24.563634157180786\n",
      "Epoch [43]/[100]. Batch [25]/[25]. Train loss 0.019. Train acc 77.875. "
     ]
    },
    {
     "name": "stderr",
     "output_type": "stream",
     "text": [
      " 43%|████▎     | 43/100 [17:47<23:19, 24.56s/it]"
     ]
    },
    {
     "name": "stdout",
     "output_type": "stream",
     "text": [
      "Val loss 0.831. Val acc 72.000. Took 24.435 seconds\n",
      "Epoch took 24.435914993286133\n",
      "Epoch [44]/[100]. Batch [25]/[25]. Train loss 0.018. Train acc 76.375. "
     ]
    },
    {
     "name": "stderr",
     "output_type": "stream",
     "text": [
      " 44%|████▍     | 44/100 [18:11<22:53, 24.53s/it]"
     ]
    },
    {
     "name": "stdout",
     "output_type": "stream",
     "text": [
      "Val loss 0.907. Val acc 67.000. Took 24.325 seconds\n",
      "Epoch took 24.325494289398193\n",
      "Epoch [45]/[100]. Batch [25]/[25]. Train loss 0.018. Train acc 77.750. "
     ]
    },
    {
     "name": "stderr",
     "output_type": "stream",
     "text": [
      " 45%|████▌     | 45/100 [18:35<22:27, 24.49s/it]"
     ]
    },
    {
     "name": "stdout",
     "output_type": "stream",
     "text": [
      "Val loss 0.867. Val acc 69.000. Took 24.282 seconds\n",
      "Epoch took 24.282716751098633\n",
      "Epoch [46]/[100]. Batch [25]/[25]. Train loss 0.017. Train acc 77.000. "
     ]
    },
    {
     "name": "stderr",
     "output_type": "stream",
     "text": [
      " 46%|████▌     | 46/100 [19:00<22:02, 24.49s/it]"
     ]
    },
    {
     "name": "stdout",
     "output_type": "stream",
     "text": [
      "Val loss 0.884. Val acc 68.000. Took 24.357 seconds\n",
      "Epoch took 24.357498168945312\n",
      "Epoch [47]/[100]. Batch [25]/[25]. Train loss 0.017. Train acc 76.000. "
     ]
    },
    {
     "name": "stderr",
     "output_type": "stream",
     "text": [
      " 47%|████▋     | 47/100 [19:24<21:36, 24.46s/it]"
     ]
    },
    {
     "name": "stdout",
     "output_type": "stream",
     "text": [
      "Val loss 0.962. Val acc 66.000. Took 24.267 seconds\n",
      "Epoch took 24.2672381401062\n",
      "Epoch [48]/[100]. Batch [25]/[25]. Train loss 0.016. Train acc 75.500. "
     ]
    },
    {
     "name": "stderr",
     "output_type": "stream",
     "text": [
      " 48%|████▊     | 48/100 [19:49<21:14, 24.51s/it]"
     ]
    },
    {
     "name": "stdout",
     "output_type": "stream",
     "text": [
      "Val loss 0.932. Val acc 69.000. Took 24.503 seconds\n",
      "Epoch took 24.503620862960815\n",
      "Epoch [49]/[100]. Batch [25]/[25]. Train loss 0.016. Train acc 78.000. "
     ]
    },
    {
     "name": "stderr",
     "output_type": "stream",
     "text": [
      " 49%|████▉     | 49/100 [20:13<20:48, 24.48s/it]"
     ]
    },
    {
     "name": "stdout",
     "output_type": "stream",
     "text": [
      "Val loss 0.929. Val acc 67.000. Took 24.259 seconds\n",
      "Epoch took 24.25918412208557\n",
      "Epoch [50]/[100]. Batch [25]/[25]. Train loss 0.015. Train acc 77.750. "
     ]
    },
    {
     "name": "stderr",
     "output_type": "stream",
     "text": [
      " 50%|█████     | 50/100 [20:38<20:23, 24.47s/it]"
     ]
    },
    {
     "name": "stdout",
     "output_type": "stream",
     "text": [
      "Val loss 0.886. Val acc 71.000. Took 24.366 seconds\n",
      "Epoch took 24.366477727890015\n",
      "Epoch [51]/[100]. Batch [25]/[25]. Train loss 0.014. Train acc 79.125. "
     ]
    },
    {
     "name": "stderr",
     "output_type": "stream",
     "text": [
      " 51%|█████     | 51/100 [21:02<19:59, 24.49s/it]"
     ]
    },
    {
     "name": "stdout",
     "output_type": "stream",
     "text": [
      "Val loss 0.824. Val acc 72.000. Took 24.394 seconds\n",
      "Epoch took 24.394758224487305\n",
      "Epoch [52]/[100]. Batch [25]/[25]. Train loss 0.014. Train acc 78.500. "
     ]
    },
    {
     "name": "stderr",
     "output_type": "stream",
     "text": [
      " 52%|█████▏    | 52/100 [21:27<19:38, 24.56s/it]"
     ]
    },
    {
     "name": "stdout",
     "output_type": "stream",
     "text": [
      "Val loss 0.915. Val acc 70.000. Took 24.581 seconds\n",
      "Epoch took 24.581220626831055\n",
      "Epoch [53]/[100]. Batch [25]/[25]. Train loss 0.014. Train acc 76.625. "
     ]
    },
    {
     "name": "stderr",
     "output_type": "stream",
     "text": [
      " 53%|█████▎    | 53/100 [21:52<19:12, 24.53s/it]"
     ]
    },
    {
     "name": "stdout",
     "output_type": "stream",
     "text": [
      "Val loss 0.908. Val acc 69.000. Took 24.279 seconds\n",
      "Epoch took 24.279198169708252\n",
      "Epoch [54]/[100]. Batch [25]/[25]. Train loss 0.013. Train acc 77.875. "
     ]
    },
    {
     "name": "stderr",
     "output_type": "stream",
     "text": [
      " 54%|█████▍    | 54/100 [22:16<18:47, 24.50s/it]"
     ]
    },
    {
     "name": "stdout",
     "output_type": "stream",
     "text": [
      "Val loss 0.943. Val acc 70.000. Took 24.314 seconds\n",
      "Epoch took 24.31441879272461\n",
      "Epoch [55]/[100]. Batch [25]/[25]. Train loss 0.013. Train acc 79.625. "
     ]
    },
    {
     "name": "stderr",
     "output_type": "stream",
     "text": [
      " 55%|█████▌    | 55/100 [22:41<18:23, 24.52s/it]"
     ]
    },
    {
     "name": "stdout",
     "output_type": "stream",
     "text": [
      "Val loss 0.849. Val acc 71.000. Took 24.441 seconds\n",
      "Epoch took 24.441396474838257\n",
      "Epoch [56]/[100]. Batch [25]/[25]. Train loss 0.013. Train acc 79.500. "
     ]
    },
    {
     "name": "stderr",
     "output_type": "stream",
     "text": [
      " 56%|█████▌    | 56/100 [23:05<18:02, 24.60s/it]"
     ]
    },
    {
     "name": "stdout",
     "output_type": "stream",
     "text": [
      "Val loss 0.893. Val acc 72.000. Took 24.637 seconds\n",
      "Epoch took 24.637142419815063\n",
      "Epoch [57]/[100]. Batch [25]/[25]. Train loss 0.012. Train acc 78.750. "
     ]
    },
    {
     "name": "stderr",
     "output_type": "stream",
     "text": [
      " 57%|█████▋    | 57/100 [23:30<17:37, 24.60s/it]"
     ]
    },
    {
     "name": "stdout",
     "output_type": "stream",
     "text": [
      "Val loss 0.852. Val acc 69.000. Took 24.466 seconds\n",
      "Epoch took 24.46656847000122\n",
      "Epoch [58]/[100]. Batch [25]/[25]. Train loss 0.012. Train acc 81.000. "
     ]
    },
    {
     "name": "stderr",
     "output_type": "stream",
     "text": [
      " 58%|█████▊    | 58/100 [23:54<17:12, 24.58s/it]"
     ]
    },
    {
     "name": "stdout",
     "output_type": "stream",
     "text": [
      "Val loss 0.843. Val acc 71.000. Took 24.429 seconds\n",
      "Epoch took 24.429584980010986\n",
      "Epoch [59]/[100]. Batch [25]/[25]. Train loss 0.012. Train acc 80.625. "
     ]
    },
    {
     "name": "stderr",
     "output_type": "stream",
     "text": [
      " 59%|█████▉    | 59/100 [24:19<16:48, 24.59s/it]"
     ]
    },
    {
     "name": "stdout",
     "output_type": "stream",
     "text": [
      "Val loss 0.892. Val acc 72.000. Took 24.487 seconds\n",
      "Epoch took 24.487506866455078\n",
      "Epoch [60]/[100]. Batch [25]/[25]. Train loss 0.012. Train acc 79.625. "
     ]
    },
    {
     "name": "stderr",
     "output_type": "stream",
     "text": [
      " 60%|██████    | 60/100 [24:44<16:23, 24.59s/it]"
     ]
    },
    {
     "name": "stdout",
     "output_type": "stream",
     "text": [
      "Val loss 0.873. Val acc 68.000. Took 24.471 seconds\n",
      "Epoch took 24.471306324005127\n",
      "Epoch [61]/[100]. Batch [25]/[25]. Train loss 0.011. Train acc 80.375. "
     ]
    },
    {
     "name": "stderr",
     "output_type": "stream",
     "text": [
      " 61%|██████    | 61/100 [25:08<15:59, 24.59s/it]"
     ]
    },
    {
     "name": "stdout",
     "output_type": "stream",
     "text": [
      "Val loss 0.799. Val acc 72.000. Took 24.468 seconds\n",
      "Epoch took 24.468767642974854\n",
      "Epoch [62]/[100]. Batch [25]/[25]. Train loss 0.011. Train acc 79.500. "
     ]
    },
    {
     "name": "stderr",
     "output_type": "stream",
     "text": [
      " 62%|██████▏   | 62/100 [25:33<15:34, 24.59s/it]"
     ]
    },
    {
     "name": "stdout",
     "output_type": "stream",
     "text": [
      "Val loss 0.879. Val acc 71.000. Took 24.396 seconds\n",
      "Epoch took 24.39603590965271\n",
      "Epoch [63]/[100]. Batch [25]/[25]. Train loss 0.011. Train acc 79.125. "
     ]
    },
    {
     "name": "stderr",
     "output_type": "stream",
     "text": [
      " 63%|██████▎   | 63/100 [25:57<15:09, 24.59s/it]"
     ]
    },
    {
     "name": "stdout",
     "output_type": "stream",
     "text": [
      "Val loss 0.809. Val acc 72.000. Took 24.462 seconds\n",
      "Epoch took 24.46205234527588\n",
      "Epoch [64]/[100]. Batch [25]/[25]. Train loss 0.011. Train acc 81.375. "
     ]
    },
    {
     "name": "stderr",
     "output_type": "stream",
     "text": [
      " 64%|██████▍   | 64/100 [26:22<14:46, 24.62s/it]"
     ]
    },
    {
     "name": "stdout",
     "output_type": "stream",
     "text": [
      "Val loss 0.812. Val acc 72.000. Took 24.569 seconds\n",
      "Epoch took 24.56944489479065\n",
      "Epoch [65]/[100]. Batch [25]/[25]. Train loss 0.010. Train acc 80.000. "
     ]
    },
    {
     "name": "stderr",
     "output_type": "stream",
     "text": [
      " 65%|██████▌   | 65/100 [26:47<14:21, 24.60s/it]"
     ]
    },
    {
     "name": "stdout",
     "output_type": "stream",
     "text": [
      "Val loss 0.969. Val acc 68.000. Took 24.451 seconds\n",
      "Epoch took 24.451116800308228\n",
      "Epoch [66]/[100]. Batch [25]/[25]. Train loss 0.010. Train acc 80.875. "
     ]
    },
    {
     "name": "stderr",
     "output_type": "stream",
     "text": [
      " 66%|██████▌   | 66/100 [27:11<13:55, 24.58s/it]"
     ]
    },
    {
     "name": "stdout",
     "output_type": "stream",
     "text": [
      "Val loss 0.917. Val acc 70.000. Took 24.389 seconds\n",
      "Epoch took 24.389423847198486\n",
      "Epoch [67]/[100]. Batch [25]/[25]. Train loss 0.010. Train acc 80.000. "
     ]
    },
    {
     "name": "stderr",
     "output_type": "stream",
     "text": [
      " 67%|██████▋   | 67/100 [27:36<13:28, 24.51s/it]"
     ]
    },
    {
     "name": "stdout",
     "output_type": "stream",
     "text": [
      "Val loss 0.920. Val acc 70.000. Took 24.237 seconds\n",
      "Epoch took 24.237288236618042\n",
      "Epoch [68]/[100]. Batch [25]/[25]. Train loss 0.010. Train acc 80.625. "
     ]
    },
    {
     "name": "stderr",
     "output_type": "stream",
     "text": [
      " 68%|██████▊   | 68/100 [28:00<13:05, 24.56s/it]"
     ]
    },
    {
     "name": "stdout",
     "output_type": "stream",
     "text": [
      "Val loss 0.886. Val acc 72.000. Took 24.533 seconds\n",
      "Epoch took 24.533541202545166\n",
      "Epoch [69]/[100]. Batch [25]/[25]. Train loss 0.009. Train acc 81.000. "
     ]
    },
    {
     "name": "stderr",
     "output_type": "stream",
     "text": [
      " 69%|██████▉   | 69/100 [28:25<12:41, 24.56s/it]"
     ]
    },
    {
     "name": "stdout",
     "output_type": "stream",
     "text": [
      "Val loss 0.919. Val acc 69.000. Took 24.436 seconds\n",
      "Epoch took 24.43626117706299\n",
      "Epoch [70]/[100]. Batch [25]/[25]. Train loss 0.009. Train acc 80.500. "
     ]
    },
    {
     "name": "stderr",
     "output_type": "stream",
     "text": [
      " 70%|███████   | 70/100 [28:49<12:16, 24.55s/it]"
     ]
    },
    {
     "name": "stdout",
     "output_type": "stream",
     "text": [
      "Val loss 0.882. Val acc 68.000. Took 24.399 seconds\n",
      "Epoch took 24.399598360061646\n",
      "Epoch [71]/[100]. Batch [25]/[25]. Train loss 0.009. Train acc 82.000. "
     ]
    },
    {
     "name": "stderr",
     "output_type": "stream",
     "text": [
      " 71%|███████   | 71/100 [29:14<11:50, 24.52s/it]"
     ]
    },
    {
     "name": "stdout",
     "output_type": "stream",
     "text": [
      "Val loss 0.912. Val acc 68.000. Took 24.267 seconds\n",
      "Epoch took 24.26738715171814\n",
      "Epoch [72]/[100]. Batch [25]/[25]. Train loss 0.009. Train acc 82.000. "
     ]
    },
    {
     "name": "stderr",
     "output_type": "stream",
     "text": [
      " 72%|███████▏  | 72/100 [29:38<11:26, 24.53s/it]"
     ]
    },
    {
     "name": "stdout",
     "output_type": "stream",
     "text": [
      "Val loss 0.834. Val acc 71.000. Took 24.435 seconds\n",
      "Epoch took 24.435988187789917\n",
      "Epoch [73]/[100]. Batch [25]/[25]. Train loss 0.009. Train acc 81.625. "
     ]
    },
    {
     "name": "stderr",
     "output_type": "stream",
     "text": [
      " 73%|███████▎  | 73/100 [30:03<11:02, 24.55s/it]"
     ]
    },
    {
     "name": "stdout",
     "output_type": "stream",
     "text": [
      "Val loss 0.815. Val acc 73.000. Took 24.506 seconds\n",
      "Epoch took 24.506253957748413\n",
      "Epoch [74]/[100]. Batch [25]/[25]. Train loss 0.008. Train acc 82.250. "
     ]
    },
    {
     "name": "stderr",
     "output_type": "stream",
     "text": [
      " 74%|███████▍  | 74/100 [30:28<10:39, 24.58s/it]"
     ]
    },
    {
     "name": "stdout",
     "output_type": "stream",
     "text": [
      "Val loss 0.918. Val acc 70.000. Took 24.528 seconds\n",
      "Epoch took 24.528371334075928\n",
      "Epoch [75]/[100]. Batch [25]/[25]. Train loss 0.009. Train acc 80.750. "
     ]
    },
    {
     "name": "stderr",
     "output_type": "stream",
     "text": [
      " 75%|███████▌  | 75/100 [30:52<10:14, 24.58s/it]"
     ]
    },
    {
     "name": "stdout",
     "output_type": "stream",
     "text": [
      "Val loss 0.849. Val acc 68.000. Took 24.430 seconds\n",
      "Epoch took 24.430505752563477\n",
      "Epoch [76]/[100]. Batch [25]/[25]. Train loss 0.009. Train acc 80.625. "
     ]
    },
    {
     "name": "stderr",
     "output_type": "stream",
     "text": [
      " 76%|███████▌  | 76/100 [31:17<09:48, 24.52s/it]"
     ]
    },
    {
     "name": "stdout",
     "output_type": "stream",
     "text": [
      "Val loss 0.848. Val acc 71.000. Took 24.253 seconds\n",
      "Epoch took 24.253784656524658\n",
      "Epoch [77]/[100]. Batch [25]/[25]. Train loss 0.008. Train acc 83.000. "
     ]
    },
    {
     "name": "stderr",
     "output_type": "stream",
     "text": [
      " 77%|███████▋  | 77/100 [31:41<09:25, 24.59s/it]"
     ]
    },
    {
     "name": "stdout",
     "output_type": "stream",
     "text": [
      "Val loss 0.848. Val acc 74.000. Took 24.646 seconds\n",
      "Epoch took 24.646897554397583\n",
      "Epoch [78]/[100]. Batch [25]/[25]. Train loss 0.008. Train acc 82.375. "
     ]
    },
    {
     "name": "stderr",
     "output_type": "stream",
     "text": [
      " 78%|███████▊  | 78/100 [32:06<09:00, 24.58s/it]"
     ]
    },
    {
     "name": "stdout",
     "output_type": "stream",
     "text": [
      "Val loss 0.930. Val acc 71.000. Took 24.439 seconds\n",
      "Epoch took 24.439231872558594\n",
      "Epoch [79]/[100]. Batch [25]/[25]. Train loss 0.008. Train acc 83.750. "
     ]
    },
    {
     "name": "stderr",
     "output_type": "stream",
     "text": [
      " 79%|███████▉  | 79/100 [32:31<08:40, 24.81s/it]"
     ]
    },
    {
     "name": "stdout",
     "output_type": "stream",
     "text": [
      "Val loss 0.847. Val acc 70.000. Took 25.204 seconds\n",
      "Epoch took 25.204814672470093\n",
      "Epoch [80]/[100]. Batch [25]/[25]. Train loss 0.008. Train acc 82.250. "
     ]
    },
    {
     "name": "stderr",
     "output_type": "stream",
     "text": [
      " 80%|████████  | 80/100 [32:56<08:15, 24.76s/it]"
     ]
    },
    {
     "name": "stdout",
     "output_type": "stream",
     "text": [
      "Val loss 0.848. Val acc 70.000. Took 24.469 seconds\n",
      "Epoch took 24.474949836730957\n",
      "Epoch [81]/[100]. Batch [25]/[25]. Train loss 0.008. Train acc 82.250. "
     ]
    },
    {
     "name": "stderr",
     "output_type": "stream",
     "text": [
      " 81%|████████  | 81/100 [33:20<07:48, 24.67s/it]"
     ]
    },
    {
     "name": "stdout",
     "output_type": "stream",
     "text": [
      "Val loss 0.863. Val acc 71.000. Took 24.336 seconds\n",
      "Epoch took 24.33615231513977\n",
      "Epoch [82]/[100]. Batch [25]/[25]. Train loss 0.008. Train acc 82.375. "
     ]
    },
    {
     "name": "stderr",
     "output_type": "stream",
     "text": [
      " 82%|████████▏ | 82/100 [33:45<07:23, 24.63s/it]"
     ]
    },
    {
     "name": "stdout",
     "output_type": "stream",
     "text": [
      "Val loss 0.876. Val acc 67.000. Took 24.397 seconds\n",
      "Epoch took 24.397384881973267\n",
      "Epoch [83]/[100]. Batch [25]/[25]. Train loss 0.007. Train acc 82.250. "
     ]
    },
    {
     "name": "stderr",
     "output_type": "stream",
     "text": [
      " 83%|████████▎ | 83/100 [34:10<06:59, 24.65s/it]"
     ]
    },
    {
     "name": "stdout",
     "output_type": "stream",
     "text": [
      "Val loss 0.917. Val acc 67.000. Took 24.556 seconds\n",
      "Epoch took 24.556607007980347\n",
      "Epoch [84]/[100]. Batch [25]/[25]. Train loss 0.007. Train acc 81.375. "
     ]
    },
    {
     "name": "stderr",
     "output_type": "stream",
     "text": [
      " 84%|████████▍ | 84/100 [34:34<06:34, 24.68s/it]"
     ]
    },
    {
     "name": "stdout",
     "output_type": "stream",
     "text": [
      "Val loss 0.850. Val acc 71.000. Took 24.636 seconds\n",
      "Epoch took 24.63609504699707\n",
      "Epoch [85]/[100]. Batch [25]/[25]. Train loss 0.007. Train acc 82.500. "
     ]
    },
    {
     "name": "stderr",
     "output_type": "stream",
     "text": [
      " 85%|████████▌ | 85/100 [34:59<06:09, 24.63s/it]"
     ]
    },
    {
     "name": "stdout",
     "output_type": "stream",
     "text": [
      "Val loss 0.841. Val acc 73.000. Took 24.349 seconds\n",
      "Epoch took 24.349689483642578\n",
      "Epoch [86]/[100]. Batch [25]/[25]. Train loss 0.007. Train acc 81.500. "
     ]
    },
    {
     "name": "stderr",
     "output_type": "stream",
     "text": [
      " 86%|████████▌ | 86/100 [35:24<05:45, 24.65s/it]"
     ]
    },
    {
     "name": "stdout",
     "output_type": "stream",
     "text": [
      "Val loss 0.832. Val acc 71.000. Took 24.577 seconds\n",
      "Epoch took 24.577243089675903\n",
      "Epoch [87]/[100]. Batch [25]/[25]. Train loss 0.007. Train acc 83.250. "
     ]
    },
    {
     "name": "stderr",
     "output_type": "stream",
     "text": [
      " 87%|████████▋ | 87/100 [35:48<05:20, 24.65s/it]"
     ]
    },
    {
     "name": "stdout",
     "output_type": "stream",
     "text": [
      "Val loss 0.863. Val acc 72.000. Took 24.501 seconds\n",
      "Epoch took 24.501154899597168\n",
      "Epoch [88]/[100]. Batch [25]/[25]. Train loss 0.007. Train acc 82.625. "
     ]
    },
    {
     "name": "stderr",
     "output_type": "stream",
     "text": [
      " 88%|████████▊ | 88/100 [36:13<04:56, 24.67s/it]"
     ]
    },
    {
     "name": "stdout",
     "output_type": "stream",
     "text": [
      "Val loss 0.886. Val acc 72.000. Took 24.593 seconds\n",
      "Epoch took 24.593409776687622\n",
      "Epoch [89]/[100]. Batch [25]/[25]. Train loss 0.007. Train acc 81.875. Val loss 0.830. Val acc 73.000. Took 24.430 seconds\n",
      "Epoch took 24.43126893043518\n"
     ]
    },
    {
     "name": "stderr",
     "output_type": "stream",
     "text": [
      " 89%|████████▉ | 89/100 [36:38<04:31, 24.66s/it]"
     ]
    },
    {
     "name": "stdout",
     "output_type": "stream",
     "text": [
      "Epoch [90]/[100]. Batch [25]/[25]. Train loss 0.006. Train acc 82.375. "
     ]
    },
    {
     "name": "stderr",
     "output_type": "stream",
     "text": [
      " 90%|█████████ | 90/100 [37:02<04:06, 24.68s/it]"
     ]
    },
    {
     "name": "stdout",
     "output_type": "stream",
     "text": [
      "Val loss 0.832. Val acc 70.000. Took 24.568 seconds\n",
      "Epoch took 24.568625926971436\n",
      "Epoch [91]/[100]. Batch [25]/[25]. Train loss 0.006. Train acc 84.625. "
     ]
    },
    {
     "name": "stderr",
     "output_type": "stream",
     "text": [
      " 91%|█████████ | 91/100 [37:27<03:41, 24.63s/it]"
     ]
    },
    {
     "name": "stdout",
     "output_type": "stream",
     "text": [
      "Val loss 0.795. Val acc 71.000. Took 24.370 seconds\n",
      "Epoch took 24.37035298347473\n",
      "Epoch [92]/[100]. Batch [25]/[25]. Train loss 0.006. Train acc 82.875. "
     ]
    },
    {
     "name": "stderr",
     "output_type": "stream",
     "text": [
      " 92%|█████████▏| 92/100 [37:51<03:16, 24.61s/it]"
     ]
    },
    {
     "name": "stdout",
     "output_type": "stream",
     "text": [
      "Val loss 0.798. Val acc 72.000. Took 24.423 seconds\n",
      "Epoch took 24.42356824874878\n",
      "Epoch [93]/[100]. Batch [25]/[25]. Train loss 0.006. Train acc 82.750. "
     ]
    },
    {
     "name": "stderr",
     "output_type": "stream",
     "text": [
      " 93%|█████████▎| 93/100 [38:16<02:52, 24.60s/it]"
     ]
    },
    {
     "name": "stdout",
     "output_type": "stream",
     "text": [
      "Val loss 0.843. Val acc 71.000. Took 24.449 seconds\n",
      "Epoch took 24.44944405555725\n",
      "Epoch [94]/[100]. Batch [25]/[25]. Train loss 0.006. Train acc 84.000. "
     ]
    },
    {
     "name": "stderr",
     "output_type": "stream",
     "text": [
      " 94%|█████████▍| 94/100 [38:40<02:27, 24.53s/it]"
     ]
    },
    {
     "name": "stdout",
     "output_type": "stream",
     "text": [
      "Val loss 0.869. Val acc 70.000. Took 24.222 seconds\n",
      "Epoch took 24.22260093688965\n",
      "Epoch [95]/[100]. Batch [25]/[25]. Train loss 0.006. Train acc 85.250. "
     ]
    },
    {
     "name": "stderr",
     "output_type": "stream",
     "text": [
      " 95%|█████████▌| 95/100 [39:05<02:02, 24.54s/it]"
     ]
    },
    {
     "name": "stdout",
     "output_type": "stream",
     "text": [
      "Val loss 0.807. Val acc 74.000. Took 24.441 seconds\n",
      "Epoch took 24.44195246696472\n",
      "Epoch [96]/[100]. Batch [25]/[25]. Train loss 0.006. Train acc 85.000. "
     ]
    },
    {
     "name": "stderr",
     "output_type": "stream",
     "text": [
      " 96%|█████████▌| 96/100 [39:29<01:38, 24.57s/it]"
     ]
    },
    {
     "name": "stdout",
     "output_type": "stream",
     "text": [
      "Val loss 0.810. Val acc 73.000. Took 24.506 seconds\n",
      "Epoch took 24.506998777389526\n",
      "Epoch [97]/[100]. Batch [25]/[25]. Train loss 0.006. Train acc 85.000. "
     ]
    },
    {
     "name": "stderr",
     "output_type": "stream",
     "text": [
      " 97%|█████████▋| 97/100 [39:54<01:13, 24.51s/it]"
     ]
    },
    {
     "name": "stdout",
     "output_type": "stream",
     "text": [
      "Val loss 0.863. Val acc 71.000. Took 24.228 seconds\n",
      "Epoch took 24.228190422058105\n",
      "Epoch [98]/[100]. Batch [25]/[25]. Train loss 0.006. Train acc 85.125. "
     ]
    },
    {
     "name": "stderr",
     "output_type": "stream",
     "text": [
      " 98%|█████████▊| 98/100 [40:18<00:48, 24.46s/it]"
     ]
    },
    {
     "name": "stdout",
     "output_type": "stream",
     "text": [
      "Val loss 0.805. Val acc 75.000. Took 24.260 seconds\n",
      "Epoch took 24.260347843170166\n",
      "Epoch [99]/[100]. Batch [25]/[25]. Train loss 0.006. Train acc 84.000. "
     ]
    },
    {
     "name": "stderr",
     "output_type": "stream",
     "text": [
      " 99%|█████████▉| 99/100 [40:43<00:24, 24.52s/it]"
     ]
    },
    {
     "name": "stdout",
     "output_type": "stream",
     "text": [
      "Val loss 0.816. Val acc 70.000. Took 24.515 seconds\n",
      "Epoch took 24.515900373458862\n",
      "Epoch [100]/[100]. Batch [25]/[25]. Train loss 0.005. Train acc 86.000. "
     ]
    },
    {
     "name": "stderr",
     "output_type": "stream",
     "text": [
      "100%|██████████| 100/100 [41:07<00:00, 24.68s/it]"
     ]
    },
    {
     "name": "stdout",
     "output_type": "stream",
     "text": [
      "Val loss 0.856. Val acc 70.000. Took 24.448 seconds\n",
      "Epoch took 24.448478937149048\n"
     ]
    },
    {
     "name": "stderr",
     "output_type": "stream",
     "text": [
      "\n"
     ]
    },
    {
     "data": {
      "image/png": "[encoded data removed]",
      "text/plain": [
       "<Figure size 432x288 with 1 Axes>"
      ]
     },
     "metadata": {
      "needs_background": "light"
     },
     "output_type": "display_data"
    }
   ],
   "source": [
    "print_every = 25\n",
    "num_epoch = 100\n",
    "\n",
    "resnet, train_losses, val_losses = train(\n",
    "    model=resnet,\n",
    "    criterion=criterion,\n",
    "    optimizer=optimizer,\n",
    "    train_dataloader=train_dataloader,\n",
    "    test_dataloader=val_dataloader,\n",
    "    print_every=print_every,\n",
    "    num_epoch=num_epoch\n",
    ")\n",
    "\n",
    "\n",
    "plt.plot(train_losses, label='Training loss')\n",
    "plt.plot(val_losses, label='Validation loss')\n",
    "plt.legend(frameon=False)\n",
    "plt.show()"
   ]
  },
  {
   "cell_type": "markdown",
   "metadata": {},
   "source": [
    "## Testing"
   ]
  },
  {
   "cell_type": "code",
   "execution_count": 10,
   "metadata": {
    "execution": {
     "iopub.execute_input": "2023-05-24T13:34:20.199551Z",
     "iopub.status.busy": "2023-05-24T13:34:20.199244Z",
     "iopub.status.idle": "2023-05-24T13:34:23.689351Z",
     "shell.execute_reply": "2023-05-24T13:34:23.688332Z",
     "shell.execute_reply.started": "2023-05-24T13:34:20.199521Z"
    }
   },
   "outputs": [],
   "source": [
    "y_test = []\n",
    "y_pred = []\n",
    "for img, label in test_subset:\n",
    "    img = torch.Tensor(img)\n",
    "    img = img.to(device)\n",
    "    resnet.eval()\n",
    "    prediction = resnet(img[None])\n",
    "    \n",
    "    final_pred = classes[torch.max(prediction, dim=1)[1]]\n",
    "    \n",
    "    #print(label, genre_dict[final_pred])\n",
    "    \n",
    "    y_test.append(label)\n",
    "    y_pred.append(genre_dict[final_pred])\n"
   ]
  },
  {
   "cell_type": "code",
   "execution_count": 11,
   "metadata": {
    "execution": {
     "iopub.execute_input": "2023-05-24T13:34:23.697250Z",
     "iopub.status.busy": "2023-05-24T13:34:23.696873Z",
     "iopub.status.idle": "2023-05-24T13:34:23.706581Z",
     "shell.execute_reply": "2023-05-24T13:34:23.705409Z",
     "shell.execute_reply.started": "2023-05-24T13:34:23.697212Z"
    }
   },
   "outputs": [
    {
     "name": "stdout",
     "output_type": "stream",
     "text": [
      "Accuracy: 69.6969696969697\n"
     ]
    }
   ],
   "source": [
    "print(\"Accuracy:\",(100*(np.array(y_test) == np.array(y_pred)).sum()/len(y_test)))"
   ]
  },
  {
   "cell_type": "markdown",
   "metadata": {},
   "source": [
    "This seems to be a good baseline model for this task.\n",
    "\n",
    "I'll be trying to improve the performance by including more preprocessed features which I have detailed in [this notebook](https://www.kaggle.com/code/nippani/preprocessing-audio-data-gtzan).\n",
    "\n",
    "If you liked this notebook, please upvote.\n",
    "\n",
    "Also, do let me know if there are any corrections/additions needed."
   ]
  }
 ],
 "metadata": {
  "kernelspec": {
   "display_name": "Python 3 (ipykernel)",
   "language": "python",
   "name": "python3"
  },
  "language_info": {
   "codemirror_mode": {
    "name": "ipython",
    "version": 3
   },
   "file_extension": ".py",
   "mimetype": "text/x-python",
   "name": "python",
   "nbconvert_exporter": "python",
   "pygments_lexer": "ipython3",
   "version": "3.10.12"
  }
 },
 "nbformat": 4,
 "nbformat_minor": 4
}
